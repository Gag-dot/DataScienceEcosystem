{
 "cells": [
  {
   "cell_type": "markdown",
   "id": "bc6fffe8-7aa6-499c-bc24-e90c83a8f95c",
   "metadata": {},
   "source": [
    "# Data Science Tools and Ecosystem"
   ]
  },
  {
   "cell_type": "markdown",
   "id": "0f523a95-3454-4b4e-adf5-9a08b8c4eaa5",
   "metadata": {},
   "source": [
    "In this notebook, Data Science Tools and Ecosystem are summarized."
   ]
  },
  {
   "cell_type": "markdown",
   "id": "26e6df9e-862e-479a-bccf-ecb94f3e13b9",
   "metadata": {},
   "source": [
    "__Objectives:__\n",
    "- List popular languages for Data Science\n",
    "- List popular libraries for Data Science\n",
    "- List popular development environment open source tools\n",
    "- Show some examples of arithmetic expressions in Python                     "
   ]
  },
  {
   "cell_type": "markdown",
   "id": "0098d2cc-647b-41c4-9d60-a3f663d57877",
   "metadata": {},
   "source": [
    "Some of the popular languages that Data Scientists use are:\n",
    "1. Python\n",
    "2. R\n",
    "3. SQL"
   ]
  },
  {
   "cell_type": "markdown",
   "id": "235a52c5-e6e2-4483-9ede-82f90895fc4a",
   "metadata": {},
   "source": [
    "Some of the commonly used libraries used by Data Scientists include:\n",
    "1. NumPy\n",
    "2. Pandas\n",
    "3. Matplotlib"
   ]
  },
  {
   "cell_type": "markdown",
   "id": "ef0bf1f9-cd6a-4b8f-b15d-00612aeb8c7d",
   "metadata": {},
   "source": [
    "|Data Science Tools|\n",
    "|--|\n",
    "|Jupyter Notebook|\n",
    "|RStudio|\n",
    "|Apache Zeppelin|"
   ]
  },
  {
   "cell_type": "markdown",
   "id": "3c9bd118-440f-4574-817c-b191cb023db0",
   "metadata": {},
   "source": [
    "### Below are a few examples of evaluating arithmetic expressions in Python\n"
   ]
  },
  {
   "cell_type": "code",
   "execution_count": 8,
   "id": "7475aea2-3a54-4b39-a420-e43389772e2d",
   "metadata": {},
   "outputs": [
    {
     "data": {
      "text/plain": [
       "17"
      ]
     },
     "execution_count": 8,
     "metadata": {},
     "output_type": "execute_result"
    }
   ],
   "source": [
    "# This a simple arithmetic expression to mutiply then add integers\n",
    "(3*4)+5\n"
   ]
  },
  {
   "cell_type": "code",
   "execution_count": 14,
   "id": "9dd6a77b-1f3d-4063-a688-d2fcb6639314",
   "metadata": {},
   "outputs": [
    {
     "name": "stdout",
     "output_type": "stream",
     "text": [
      "200 minutes correspond to 3.3333333333333335 hours\n"
     ]
    }
   ],
   "source": [
    "# This will convert 200 minutes to hours by diving by 60\n",
    "time = 200\n",
    "converted_time = time/60\n",
    "print(time,\"minutes correspond to\", converted_time,\"hours\")"
   ]
  },
  {
   "cell_type": "markdown",
   "id": "e5b90db4-54cd-4f69-9399-5ec21bbf0c6e",
   "metadata": {},
   "source": [
    "## Author\n",
    "Manon Giraud"
   ]
  },
  {
   "cell_type": "code",
   "execution_count": null,
   "id": "9d23803e-52f9-4b7f-878b-d82555ff3388",
   "metadata": {},
   "outputs": [],
   "source": []
  }
 ],
 "metadata": {
  "kernelspec": {
   "display_name": "Python 3 (ipykernel)",
   "language": "python",
   "name": "python3"
  },
  "language_info": {
   "codemirror_mode": {
    "name": "ipython",
    "version": 3
   },
   "file_extension": ".py",
   "mimetype": "text/x-python",
   "name": "python",
   "nbconvert_exporter": "python",
   "pygments_lexer": "ipython3",
   "version": "3.12.4"
  }
 },
 "nbformat": 4,
 "nbformat_minor": 5
}
